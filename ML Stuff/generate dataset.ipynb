{
 "cells": [
  {
   "cell_type": "code",
   "execution_count": 320,
   "metadata": {},
   "outputs": [],
   "source": [
    "import numpy as np\n",
    "import pandas as pd\n",
    "import sklearn\n",
    "import joblib\n",
    "import sklearn.datasets as skd\n",
    "from sklearn.model_selection import train_test_split\n",
    "from sklearn.compose import ColumnTransformer\n",
    "from sklearn.preprocessing import OneHotEncoder, LabelEncoder\n",
    "from sklearn.preprocessing import StandardScaler\n",
    "from sklearn.ensemble import RandomForestClassifier\n",
    "from sklearn.metrics import accuracy_score\n",
    "from sklearn.pipeline import Pipeline"
   ]
  },
  {
   "cell_type": "code",
   "execution_count": 321,
   "metadata": {},
   "outputs": [],
   "source": [
    "## Age ,\n",
    "## Temperature ,\n",
    "## loss of appetite\n",
    "\n",
    "## sore throat,\n",
    "## headache\n",
    "## sweating\n",
    "\n",
    "## Target  ====> Covid Disease."
   ]
  },
  {
   "cell_type": "code",
   "execution_count": 322,
   "metadata": {},
   "outputs": [],
   "source": [
    "rows = 25000"
   ]
  },
  {
   "cell_type": "code",
   "execution_count": 323,
   "metadata": {},
   "outputs": [
    {
     "data": {
      "text/plain": [
       "(25000,)"
      ]
     },
     "execution_count": 323,
     "metadata": {},
     "output_type": "execute_result"
    }
   ],
   "source": [
    "# Age.\n",
    "age = np.random.randint(low = 10 , high = 90, size = rows )\n",
    "age .shape"
   ]
  },
  {
   "cell_type": "code",
   "execution_count": 324,
   "metadata": {},
   "outputs": [],
   "source": [
    "# temperature\n",
    "\n",
    "temperature = []\n",
    "for i in  range( rows ):\n",
    "    val = np.random.randint( low = 97 , high = 105 )\n",
    "    val2 = np.random.random()\n",
    "    temperature.append( val  + val2 )\n",
    "\n",
    "temperature = np.round( temperature , decimals = 5)"
   ]
  },
  {
   "cell_type": "code",
   "execution_count": 325,
   "metadata": {},
   "outputs": [
    {
     "data": {
      "text/plain": [
       "((25000,), (24623,))"
      ]
     },
     "execution_count": 325,
     "metadata": {},
     "output_type": "execute_result"
    }
   ],
   "source": [
    "temperature.shape, np.unique( temperature).shape"
   ]
  },
  {
   "cell_type": "code",
   "execution_count": 326,
   "metadata": {},
   "outputs": [
    {
     "data": {
      "text/plain": [
       "(25000,)"
      ]
     },
     "execution_count": 326,
     "metadata": {},
     "output_type": "execute_result"
    }
   ],
   "source": [
    "# loss of appetite\n",
    "fatigue =  np.random.choice( a = [\"Yes\", \"No\"], size = rows )\n",
    "fatigue.shape"
   ]
  },
  {
   "cell_type": "code",
   "execution_count": 327,
   "metadata": {},
   "outputs": [
    {
     "data": {
      "text/plain": [
       "(25000,)"
      ]
     },
     "execution_count": 327,
     "metadata": {},
     "output_type": "execute_result"
    }
   ],
   "source": [
    "## sore_throat\n",
    "\n",
    "sore_throat =  np.random.choice( a = [\"Yes\", \"No\"], size = rows )\n",
    "sore_throat.shape"
   ]
  },
  {
   "cell_type": "code",
   "execution_count": 328,
   "metadata": {},
   "outputs": [
    {
     "name": "stdout",
     "output_type": "stream",
     "text": [
      "(25000,)\n",
      "(25000,)\n"
     ]
    }
   ],
   "source": [
    "## headache\n",
    "headache = np.random.choice( a = [\"Mild\", \"Severe\"], size = rows )\n",
    "\n",
    "print( headache.shape)\n",
    "\n",
    "## cough\n",
    "cough =  np.random.choice( a = [\"Dry\", \"others\"], size = rows )\n",
    "print( cough.shape )"
   ]
  },
  {
   "cell_type": "code",
   "execution_count": 329,
   "metadata": {},
   "outputs": [],
   "source": [
    "# gen_target = np.random.choice( a = [1, 2, 3, 4], size = 10000 )\n",
    "\n",
    "gen_target =  np.random.choice( a = [\"Covid\", \"Fever\", \"Migrane\", 'Cholera'  ], size = rows )"
   ]
  },
  {
   "cell_type": "code",
   "execution_count": 473,
   "metadata": {},
   "outputs": [
    {
     "name": "stdout",
     "output_type": "stream",
     "text": [
      "(25000,)\n"
     ]
    }
   ],
   "source": [
    "## yellow eyes\n",
    "\n",
    "eyes_color = np.array( (  [ 'Normal' ]* 20000  ) + [ 'yellow'] * 5000 )\n",
    "print(eyes_color.shape)\n",
    "np.random.shuffle(eyes_color )"
   ]
  },
  {
   "cell_type": "code",
   "execution_count": 474,
   "metadata": {},
   "outputs": [],
   "source": [
    "hld_dat = {'Age' : age, 'Temperature' : temperature , 'Fatigue' : fatigue , 'Sore_Throat' :sore_throat,  'Eye Color' : eyes_color,\n",
    "           'Headache': headache, 'Cough' : cough, 'Disease_type': gen_target  }"
   ]
  },
  {
   "cell_type": "code",
   "execution_count": 475,
   "metadata": {},
   "outputs": [
    {
     "data": {
      "text/html": [
       "<div>\n",
       "<style scoped>\n",
       "    .dataframe tbody tr th:only-of-type {\n",
       "        vertical-align: middle;\n",
       "    }\n",
       "\n",
       "    .dataframe tbody tr th {\n",
       "        vertical-align: top;\n",
       "    }\n",
       "\n",
       "    .dataframe thead th {\n",
       "        text-align: right;\n",
       "    }\n",
       "</style>\n",
       "<table border=\"1\" class=\"dataframe\">\n",
       "  <thead>\n",
       "    <tr style=\"text-align: right;\">\n",
       "      <th></th>\n",
       "      <th>Age</th>\n",
       "      <th>Temperature</th>\n",
       "      <th>Fatigue</th>\n",
       "      <th>Sore_Throat</th>\n",
       "      <th>Eye Color</th>\n",
       "      <th>Headache</th>\n",
       "      <th>Cough</th>\n",
       "      <th>Disease_type</th>\n",
       "    </tr>\n",
       "  </thead>\n",
       "  <tbody>\n",
       "    <tr>\n",
       "      <th>0</th>\n",
       "      <td>82</td>\n",
       "      <td>102.16531</td>\n",
       "      <td>No</td>\n",
       "      <td>Yes</td>\n",
       "      <td>Normal</td>\n",
       "      <td>Severe</td>\n",
       "      <td>Dry</td>\n",
       "      <td>Cholera</td>\n",
       "    </tr>\n",
       "    <tr>\n",
       "      <th>1</th>\n",
       "      <td>43</td>\n",
       "      <td>103.92429</td>\n",
       "      <td>Yes</td>\n",
       "      <td>Yes</td>\n",
       "      <td>Normal</td>\n",
       "      <td>Severe</td>\n",
       "      <td>Dry</td>\n",
       "      <td>Fever</td>\n",
       "    </tr>\n",
       "    <tr>\n",
       "      <th>2</th>\n",
       "      <td>18</td>\n",
       "      <td>97.01768</td>\n",
       "      <td>No</td>\n",
       "      <td>Yes</td>\n",
       "      <td>Normal</td>\n",
       "      <td>Severe</td>\n",
       "      <td>Dry</td>\n",
       "      <td>Migrane</td>\n",
       "    </tr>\n",
       "    <tr>\n",
       "      <th>3</th>\n",
       "      <td>57</td>\n",
       "      <td>98.92275</td>\n",
       "      <td>No</td>\n",
       "      <td>No</td>\n",
       "      <td>Normal</td>\n",
       "      <td>Severe</td>\n",
       "      <td>Dry</td>\n",
       "      <td>Cholera</td>\n",
       "    </tr>\n",
       "    <tr>\n",
       "      <th>4</th>\n",
       "      <td>25</td>\n",
       "      <td>97.69337</td>\n",
       "      <td>Yes</td>\n",
       "      <td>No</td>\n",
       "      <td>Normal</td>\n",
       "      <td>Mild</td>\n",
       "      <td>Dry</td>\n",
       "      <td>Migrane</td>\n",
       "    </tr>\n",
       "    <tr>\n",
       "      <th>...</th>\n",
       "      <td>...</td>\n",
       "      <td>...</td>\n",
       "      <td>...</td>\n",
       "      <td>...</td>\n",
       "      <td>...</td>\n",
       "      <td>...</td>\n",
       "      <td>...</td>\n",
       "      <td>...</td>\n",
       "    </tr>\n",
       "    <tr>\n",
       "      <th>24995</th>\n",
       "      <td>83</td>\n",
       "      <td>102.67860</td>\n",
       "      <td>Yes</td>\n",
       "      <td>Yes</td>\n",
       "      <td>Normal</td>\n",
       "      <td>Severe</td>\n",
       "      <td>others</td>\n",
       "      <td>Cholera</td>\n",
       "    </tr>\n",
       "    <tr>\n",
       "      <th>24996</th>\n",
       "      <td>88</td>\n",
       "      <td>98.30138</td>\n",
       "      <td>Yes</td>\n",
       "      <td>Yes</td>\n",
       "      <td>Normal</td>\n",
       "      <td>Mild</td>\n",
       "      <td>Dry</td>\n",
       "      <td>Fever</td>\n",
       "    </tr>\n",
       "    <tr>\n",
       "      <th>24997</th>\n",
       "      <td>55</td>\n",
       "      <td>104.86730</td>\n",
       "      <td>No</td>\n",
       "      <td>Yes</td>\n",
       "      <td>Normal</td>\n",
       "      <td>Severe</td>\n",
       "      <td>Dry</td>\n",
       "      <td>Migrane</td>\n",
       "    </tr>\n",
       "    <tr>\n",
       "      <th>24998</th>\n",
       "      <td>21</td>\n",
       "      <td>101.81196</td>\n",
       "      <td>No</td>\n",
       "      <td>No</td>\n",
       "      <td>yellow</td>\n",
       "      <td>Mild</td>\n",
       "      <td>others</td>\n",
       "      <td>Fever</td>\n",
       "    </tr>\n",
       "    <tr>\n",
       "      <th>24999</th>\n",
       "      <td>71</td>\n",
       "      <td>97.66793</td>\n",
       "      <td>Yes</td>\n",
       "      <td>No</td>\n",
       "      <td>Normal</td>\n",
       "      <td>Severe</td>\n",
       "      <td>others</td>\n",
       "      <td>Cholera</td>\n",
       "    </tr>\n",
       "  </tbody>\n",
       "</table>\n",
       "<p>25000 rows × 8 columns</p>\n",
       "</div>"
      ],
      "text/plain": [
       "       Age  Temperature Fatigue Sore_Throat Eye Color Headache   Cough  \\\n",
       "0       82    102.16531      No         Yes    Normal   Severe     Dry   \n",
       "1       43    103.92429     Yes         Yes    Normal   Severe     Dry   \n",
       "2       18     97.01768      No         Yes    Normal   Severe     Dry   \n",
       "3       57     98.92275      No          No    Normal   Severe     Dry   \n",
       "4       25     97.69337     Yes          No    Normal     Mild     Dry   \n",
       "...    ...          ...     ...         ...       ...      ...     ...   \n",
       "24995   83    102.67860     Yes         Yes    Normal   Severe  others   \n",
       "24996   88     98.30138     Yes         Yes    Normal     Mild     Dry   \n",
       "24997   55    104.86730      No         Yes    Normal   Severe     Dry   \n",
       "24998   21    101.81196      No          No    yellow     Mild  others   \n",
       "24999   71     97.66793     Yes          No    Normal   Severe  others   \n",
       "\n",
       "      Disease_type  \n",
       "0          Cholera  \n",
       "1            Fever  \n",
       "2          Migrane  \n",
       "3          Cholera  \n",
       "4          Migrane  \n",
       "...            ...  \n",
       "24995      Cholera  \n",
       "24996        Fever  \n",
       "24997      Migrane  \n",
       "24998        Fever  \n",
       "24999      Cholera  \n",
       "\n",
       "[25000 rows x 8 columns]"
      ]
     },
     "execution_count": 475,
     "metadata": {},
     "output_type": "execute_result"
    }
   ],
   "source": [
    "dat = pd.DataFrame( hld_dat )\n",
    "dat"
   ]
  },
  {
   "cell_type": "code",
   "execution_count": 476,
   "metadata": {},
   "outputs": [
    {
     "data": {
      "text/html": [
       "<div>\n",
       "<style scoped>\n",
       "    .dataframe tbody tr th:only-of-type {\n",
       "        vertical-align: middle;\n",
       "    }\n",
       "\n",
       "    .dataframe tbody tr th {\n",
       "        vertical-align: top;\n",
       "    }\n",
       "\n",
       "    .dataframe thead th {\n",
       "        text-align: right;\n",
       "    }\n",
       "</style>\n",
       "<table border=\"1\" class=\"dataframe\">\n",
       "  <thead>\n",
       "    <tr style=\"text-align: right;\">\n",
       "      <th></th>\n",
       "      <th>Age</th>\n",
       "      <th>Temperature</th>\n",
       "      <th>Fatigue</th>\n",
       "      <th>Sore_Throat</th>\n",
       "      <th>Eye Color</th>\n",
       "      <th>Headache</th>\n",
       "      <th>Cough</th>\n",
       "    </tr>\n",
       "  </thead>\n",
       "  <tbody>\n",
       "    <tr>\n",
       "      <th>0</th>\n",
       "      <td>82</td>\n",
       "      <td>102.16531</td>\n",
       "      <td>No</td>\n",
       "      <td>Yes</td>\n",
       "      <td>Normal</td>\n",
       "      <td>Severe</td>\n",
       "      <td>Dry</td>\n",
       "    </tr>\n",
       "    <tr>\n",
       "      <th>1</th>\n",
       "      <td>43</td>\n",
       "      <td>103.92429</td>\n",
       "      <td>Yes</td>\n",
       "      <td>Yes</td>\n",
       "      <td>Normal</td>\n",
       "      <td>Severe</td>\n",
       "      <td>Dry</td>\n",
       "    </tr>\n",
       "    <tr>\n",
       "      <th>2</th>\n",
       "      <td>18</td>\n",
       "      <td>97.01768</td>\n",
       "      <td>No</td>\n",
       "      <td>Yes</td>\n",
       "      <td>Normal</td>\n",
       "      <td>Severe</td>\n",
       "      <td>Dry</td>\n",
       "    </tr>\n",
       "    <tr>\n",
       "      <th>3</th>\n",
       "      <td>57</td>\n",
       "      <td>98.92275</td>\n",
       "      <td>No</td>\n",
       "      <td>No</td>\n",
       "      <td>Normal</td>\n",
       "      <td>Severe</td>\n",
       "      <td>Dry</td>\n",
       "    </tr>\n",
       "    <tr>\n",
       "      <th>4</th>\n",
       "      <td>25</td>\n",
       "      <td>97.69337</td>\n",
       "      <td>Yes</td>\n",
       "      <td>No</td>\n",
       "      <td>Normal</td>\n",
       "      <td>Mild</td>\n",
       "      <td>Dry</td>\n",
       "    </tr>\n",
       "  </tbody>\n",
       "</table>\n",
       "</div>"
      ],
      "text/plain": [
       "   Age  Temperature Fatigue Sore_Throat Eye Color Headache Cough\n",
       "0   82    102.16531      No         Yes    Normal   Severe   Dry\n",
       "1   43    103.92429     Yes         Yes    Normal   Severe   Dry\n",
       "2   18     97.01768      No         Yes    Normal   Severe   Dry\n",
       "3   57     98.92275      No          No    Normal   Severe   Dry\n",
       "4   25     97.69337     Yes          No    Normal     Mild   Dry"
      ]
     },
     "execution_count": 476,
     "metadata": {},
     "output_type": "execute_result"
    }
   ],
   "source": [
    "X = dat[ dat.columns[ : -1]]\n",
    "X.head()"
   ]
  },
  {
   "cell_type": "code",
   "execution_count": 477,
   "metadata": {},
   "outputs": [
    {
     "data": {
      "text/plain": [
       "0    Cholera\n",
       "1      Fever\n",
       "2    Migrane\n",
       "3    Cholera\n",
       "4    Migrane\n",
       "Name: Disease_type, dtype: object"
      ]
     },
     "execution_count": 477,
     "metadata": {},
     "output_type": "execute_result"
    }
   ],
   "source": [
    "y = dat['Disease_type']\n",
    "y.head()"
   ]
  },
  {
   "cell_type": "code",
   "execution_count": 478,
   "metadata": {},
   "outputs": [
    {
     "data": {
      "text/plain": [
       "((20000, 7), (5000, 7), (20000,), (5000,))"
      ]
     },
     "execution_count": 478,
     "metadata": {},
     "output_type": "execute_result"
    }
   ],
   "source": [
    "X_train, X_test, y_train, y_test = train_test_split( X, y , stratify = y ,  test_size = 0.2,  random_state = 42)\n",
    "X_train.shape, X_test.shape, y_train.shape, y_test.shape"
   ]
  },
  {
   "cell_type": "code",
   "execution_count": 479,
   "metadata": {},
   "outputs": [
    {
     "data": {
      "text/plain": [
       "(['Age', 'Temperature'],\n",
       " Index(['Fatigue', 'Sore_Throat', 'Eye Color', 'Headache', 'Cough'], dtype='object'))"
      ]
     },
     "execution_count": 479,
     "metadata": {},
     "output_type": "execute_result"
    }
   ],
   "source": [
    "num_var = dat.columns[ : 2].tolist()\n",
    "cat_var = dat.columns[2: -1]\n",
    "num_var, cat_var"
   ]
  },
  {
   "cell_type": "code",
   "execution_count": 480,
   "metadata": {},
   "outputs": [],
   "source": [
    "\n",
    "numeric_features = num_var\n",
    "numeric_transformer = Pipeline(steps=[ ('scaler', StandardScaler()  )  ]  )\n",
    "\n",
    "categorical_features = cat_var\n",
    "categorical_transformer = Pipeline(steps=[('onehot', OneHotEncoder(handle_unknown='ignore'))])\n",
    "\n",
    "preprocessor = ColumnTransformer(\n",
    "    transformers=[\n",
    "        ('num', numeric_transformer,  [ 0, 1] ),  # numeric_features\n",
    "        ('cat', categorical_transformer, [2, 3, 4, 5, 6] ) ] )   #categorical_features"
   ]
  },
  {
   "cell_type": "code",
   "execution_count": 481,
   "metadata": {},
   "outputs": [],
   "source": [
    "clf = Pipeline(steps=[('preprocessor', preprocessor), ('rf_clf', RandomForestClassifier(n_estimators = 1, max_depth = 10 ))])  "
   ]
  },
  {
   "cell_type": "code",
   "execution_count": 482,
   "metadata": {},
   "outputs": [
    {
     "data": {
      "text/plain": [
       "Pipeline(steps=[('preprocessor',\n",
       "                 ColumnTransformer(transformers=[('num',\n",
       "                                                  Pipeline(steps=[('scaler',\n",
       "                                                                   StandardScaler())]),\n",
       "                                                  [0, 1]),\n",
       "                                                 ('cat',\n",
       "                                                  Pipeline(steps=[('onehot',\n",
       "                                                                   OneHotEncoder(handle_unknown='ignore'))]),\n",
       "                                                  [2, 3, 4, 5, 6])])),\n",
       "                ('rf_clf',\n",
       "                 RandomForestClassifier(max_depth=10, n_estimators=1))])"
      ]
     },
     "execution_count": 482,
     "metadata": {},
     "output_type": "execute_result"
    }
   ],
   "source": [
    "\n",
    "clf.fit(X_train, y_train)"
   ]
  },
  {
   "cell_type": "code",
   "execution_count": 483,
   "metadata": {},
   "outputs": [
    {
     "data": {
      "text/plain": [
       "array(['Cholera', 'Migrane', 'Covid', ..., 'Cholera', 'Migrane',\n",
       "       'Migrane'], dtype=object)"
      ]
     },
     "execution_count": 483,
     "metadata": {},
     "output_type": "execute_result"
    }
   ],
   "source": [
    "y_train_pred = clf.predict( X_train  )\n",
    "y_train_pred"
   ]
  },
  {
   "cell_type": "code",
   "execution_count": 484,
   "metadata": {},
   "outputs": [
    {
     "data": {
      "text/plain": [
       "0.3291"
      ]
     },
     "execution_count": 484,
     "metadata": {},
     "output_type": "execute_result"
    }
   ],
   "source": [
    "accuracy_score( y_train, y_train_pred )"
   ]
  },
  {
   "cell_type": "code",
   "execution_count": 485,
   "metadata": {},
   "outputs": [
    {
     "data": {
      "text/plain": [
       "array(['Migrane', 'Covid', 'Cholera', ..., 'Cholera', 'Cholera', 'Covid'],\n",
       "      dtype=object)"
      ]
     },
     "execution_count": 485,
     "metadata": {},
     "output_type": "execute_result"
    }
   ],
   "source": [
    "y_test_pred = clf.predict( X_test )\n",
    "y_test_pred"
   ]
  },
  {
   "cell_type": "code",
   "execution_count": 486,
   "metadata": {},
   "outputs": [
    {
     "data": {
      "text/plain": [
       "0.2496"
      ]
     },
     "execution_count": 486,
     "metadata": {},
     "output_type": "execute_result"
    }
   ],
   "source": [
    "accuracy_score( y_test, y_test_pred )"
   ]
  },
  {
   "cell_type": "code",
   "execution_count": 487,
   "metadata": {},
   "outputs": [
    {
     "data": {
      "text/plain": [
       "['model.pkl']"
      ]
     },
     "execution_count": 487,
     "metadata": {},
     "output_type": "execute_result"
    }
   ],
   "source": [
    "joblib.dump( clf, 'model.pkl' )"
   ]
  },
  {
   "cell_type": "code",
   "execution_count": 488,
   "metadata": {},
   "outputs": [],
   "source": [
    "clf2 = joblib.load( 'model' )"
   ]
  },
  {
   "cell_type": "code",
   "execution_count": 489,
   "metadata": {},
   "outputs": [
    {
     "name": "stdout",
     "output_type": "stream",
     "text": [
      "Age                 42\n",
      "Temperature    101.513\n",
      "Fatigue            Yes\n",
      "Sore_Throat         No\n",
      "Eye Color       Normal\n",
      "Headache          Mild\n",
      "Cough              Dry\n",
      "Name: 20876, dtype: object\n"
     ]
    }
   ],
   "source": [
    "print( X_test.iloc[0] )"
   ]
  },
  {
   "cell_type": "code",
   "execution_count": 490,
   "metadata": {},
   "outputs": [],
   "source": [
    "q = np.array( [ 42, 101.513, 'Yes', 'No', 'Normal' , 'Mild', 'Dry' ] , dtype = 'object')\n",
    "q = np.reshape(q, (-1, len(q)))"
   ]
  },
  {
   "cell_type": "code",
   "execution_count": 491,
   "metadata": {},
   "outputs": [
    {
     "data": {
      "text/plain": [
       "1"
      ]
     },
     "execution_count": 491,
     "metadata": {},
     "output_type": "execute_result"
    }
   ],
   "source": [
    "len(q)"
   ]
  },
  {
   "cell_type": "code",
   "execution_count": 492,
   "metadata": {},
   "outputs": [],
   "source": [
    "############################################## TESTING CODE #####################################################\n",
    "#  pd.DataFrame(q, columns = dat.columns[:-1]) \n",
    "# clf2.predict( X_test.iloc[:1] )\n",
    "\n",
    "# clf2.predict(  pd.DataFrame(q, columns = dat.columns[:-1])   )\n",
    "\n",
    "############################################## TESTING CODE #####################################################"
   ]
  },
  {
   "cell_type": "code",
   "execution_count": 493,
   "metadata": {},
   "outputs": [
    {
     "data": {
      "text/plain": [
       "array(['Covid'], dtype=object)"
      ]
     },
     "execution_count": 493,
     "metadata": {},
     "output_type": "execute_result"
    }
   ],
   "source": [
    "clf2.predict( q  )"
   ]
  },
  {
   "cell_type": "code",
   "execution_count": 494,
   "metadata": {},
   "outputs": [
    {
     "data": {
      "text/plain": [
       "array([[0.19339623, 0.25707547, 0.25235849, 0.29716981]])"
      ]
     },
     "execution_count": 494,
     "metadata": {},
     "output_type": "execute_result"
    }
   ],
   "source": [
    "clf.predict_proba( q )"
   ]
  },
  {
   "cell_type": "code",
   "execution_count": null,
   "metadata": {},
   "outputs": [],
   "source": []
  }
 ],
 "metadata": {
  "kernelspec": {
   "display_name": "Python 3",
   "language": "python",
   "name": "python3"
  },
  "language_info": {
   "codemirror_mode": {
    "name": "ipython",
    "version": 3
   },
   "file_extension": ".py",
   "mimetype": "text/x-python",
   "name": "python",
   "nbconvert_exporter": "python",
   "pygments_lexer": "ipython3",
   "version": "3.8.3"
  }
 },
 "nbformat": 4,
 "nbformat_minor": 4
}
